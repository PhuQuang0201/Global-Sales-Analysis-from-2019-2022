{
 "cells": [
  {
   "cell_type": "markdown",
   "metadata": {},
   "source": [
    "Tạo một datafram mới để chứa thông tin làm bảng RFM\n"
   ]
  },
  {
   "cell_type": "code",
   "execution_count": 1,
   "metadata": {},
   "outputs": [],
   "source": [
    "import pandas as pd"
   ]
  },
  {
   "cell_type": "code",
   "execution_count": 2,
   "metadata": {},
   "outputs": [],
   "source": [
    "from datetime import datetime"
   ]
  },
  {
   "cell_type": "code",
   "execution_count": 3,
   "metadata": {},
   "outputs": [],
   "source": [
    "# Tạo dataframe mới để lưu bảng RFM\n",
    "RFM_table = pd.DataFrame()"
   ]
  },
  {
   "cell_type": "code",
   "execution_count": 4,
   "metadata": {},
   "outputs": [],
   "source": [
    "# Nạp file 'Ontop_General_Records_cleaned.csv' đã được làm sạch trước đó\n",
    "GRC = pd.read_csv(\"Ontop_General_Records_cleaned.csv\")"
   ]
  },
  {
   "cell_type": "code",
   "execution_count": 5,
   "metadata": {},
   "outputs": [],
   "source": [
    "# Chuyển cột Date thành định dạng datetime\n",
    "GRC['DATE'] = pd.to_datetime(GRC['DATE'])"
   ]
  },
  {
   "cell_type": "code",
   "execution_count": 6,
   "metadata": {},
   "outputs": [],
   "source": [
    "# Chuyển cột Amount thành định dạng float\n",
    "GRC['Amount'] = GRC['Amount'].str.replace(\",\", \"\")\n",
    "GRC['Amount'] = GRC['Amount'].astype(float)"
   ]
  },
  {
   "cell_type": "code",
   "execution_count": 7,
   "metadata": {},
   "outputs": [
    {
     "name": "stdout",
     "output_type": "stream",
     "text": [
      "<class 'pandas.core.frame.DataFrame'>\n",
      "RangeIndex: 6012 entries, 0 to 6011\n",
      "Data columns (total 8 columns):\n",
      " #   Column         Non-Null Count  Dtype         \n",
      "---  ------         --------------  -----         \n",
      " 0   Unnamed: 0     6012 non-null   int64         \n",
      " 1   DATE           6012 non-null   datetime64[ns]\n",
      " 2   Record_Type    6012 non-null   object        \n",
      " 3   PAYEE          6012 non-null   object        \n",
      " 4   Payee_ID       6012 non-null   object        \n",
      " 5   Internal Code  5195 non-null   object        \n",
      " 6   Description    6012 non-null   object        \n",
      " 7   Amount         6012 non-null   float64       \n",
      "dtypes: datetime64[ns](1), float64(1), int64(1), object(5)\n",
      "memory usage: 375.9+ KB\n"
     ]
    }
   ],
   "source": [
    "GRC.info()"
   ]
  },
  {
   "cell_type": "code",
   "execution_count": 8,
   "metadata": {},
   "outputs": [],
   "source": [
    "# Tạo cột date_diff để tính chênh lệch ngày với ngày 30-11-2022 (ngày cuối cùng của tháng có dữ liệu)\n",
    "GRC['Date_diff'] = datetime(2022,11,30) - GRC['DATE']"
   ]
  },
  {
   "cell_type": "code",
   "execution_count": 9,
   "metadata": {},
   "outputs": [],
   "source": [
    "# Tính các cột để làm cơ sở tính RFM\n",
    "RFM_table = GRC[GRC['Record_Type'] == \"REV\"].groupby('Payee_ID').agg({'Date_diff':\"min\" , 'Internal Code':'nunique' , 'Amount':'sum'}).reset_index()"
   ]
  },
  {
   "cell_type": "code",
   "execution_count": null,
   "metadata": {},
   "outputs": [],
   "source": [
    "# Ra được bảng như bên dưới, nhưng sẽ đổi tên lại cho dễ hiểu\n",
    "RFM_table"
   ]
  },
  {
   "cell_type": "code",
   "execution_count": 10,
   "metadata": {},
   "outputs": [],
   "source": [
    "# Đổi lại tên cột\n",
    "RFM_table = RFM_table.rename(columns={'Internal Code':'Customer_Order', 'Amount':'Customer_Revenue', 'Date_diff':'Customer_Last_Order' })"
   ]
  },
  {
   "cell_type": "code",
   "execution_count": 11,
   "metadata": {},
   "outputs": [
    {
     "data": {
      "text/html": [
       "<div>\n",
       "<style scoped>\n",
       "    .dataframe tbody tr th:only-of-type {\n",
       "        vertical-align: middle;\n",
       "    }\n",
       "\n",
       "    .dataframe tbody tr th {\n",
       "        vertical-align: top;\n",
       "    }\n",
       "\n",
       "    .dataframe thead th {\n",
       "        text-align: right;\n",
       "    }\n",
       "</style>\n",
       "<table border=\"1\" class=\"dataframe\">\n",
       "  <thead>\n",
       "    <tr style=\"text-align: right;\">\n",
       "      <th></th>\n",
       "      <th>Payee_ID</th>\n",
       "      <th>Customer_Last_Order</th>\n",
       "      <th>Customer_Order</th>\n",
       "      <th>Customer_Revenue</th>\n",
       "    </tr>\n",
       "  </thead>\n",
       "  <tbody>\n",
       "    <tr>\n",
       "      <th>0</th>\n",
       "      <td>ABCO</td>\n",
       "      <td>946 days</td>\n",
       "      <td>1</td>\n",
       "      <td>5091.60</td>\n",
       "    </tr>\n",
       "    <tr>\n",
       "      <th>1</th>\n",
       "      <td>ADCA</td>\n",
       "      <td>745 days</td>\n",
       "      <td>1</td>\n",
       "      <td>6215.00</td>\n",
       "    </tr>\n",
       "    <tr>\n",
       "      <th>2</th>\n",
       "      <td>ANVA</td>\n",
       "      <td>54 days</td>\n",
       "      <td>42</td>\n",
       "      <td>269871.53</td>\n",
       "    </tr>\n",
       "    <tr>\n",
       "      <th>3</th>\n",
       "      <td>ARCU</td>\n",
       "      <td>250 days</td>\n",
       "      <td>3</td>\n",
       "      <td>42514.23</td>\n",
       "    </tr>\n",
       "    <tr>\n",
       "      <th>4</th>\n",
       "      <td>ATOS</td>\n",
       "      <td>183 days</td>\n",
       "      <td>3</td>\n",
       "      <td>16295.75</td>\n",
       "    </tr>\n",
       "    <tr>\n",
       "      <th>...</th>\n",
       "      <td>...</td>\n",
       "      <td>...</td>\n",
       "      <td>...</td>\n",
       "      <td>...</td>\n",
       "    </tr>\n",
       "    <tr>\n",
       "      <th>60</th>\n",
       "      <td>XEMU</td>\n",
       "      <td>1021 days</td>\n",
       "      <td>2</td>\n",
       "      <td>9333.51</td>\n",
       "    </tr>\n",
       "    <tr>\n",
       "      <th>61</th>\n",
       "      <td>XOTU</td>\n",
       "      <td>55 days</td>\n",
       "      <td>14</td>\n",
       "      <td>10166.95</td>\n",
       "    </tr>\n",
       "    <tr>\n",
       "      <th>62</th>\n",
       "      <td>YULH</td>\n",
       "      <td>30 days</td>\n",
       "      <td>81</td>\n",
       "      <td>1662235.04</td>\n",
       "    </tr>\n",
       "    <tr>\n",
       "      <th>63</th>\n",
       "      <td>ZAYN</td>\n",
       "      <td>33 days</td>\n",
       "      <td>18</td>\n",
       "      <td>193473.58</td>\n",
       "    </tr>\n",
       "    <tr>\n",
       "      <th>64</th>\n",
       "      <td>ZOOB</td>\n",
       "      <td>30 days</td>\n",
       "      <td>21</td>\n",
       "      <td>627114.30</td>\n",
       "    </tr>\n",
       "  </tbody>\n",
       "</table>\n",
       "<p>65 rows × 4 columns</p>\n",
       "</div>"
      ],
      "text/plain": [
       "   Payee_ID Customer_Last_Order  Customer_Order  Customer_Revenue\n",
       "0      ABCO            946 days               1           5091.60\n",
       "1      ADCA            745 days               1           6215.00\n",
       "2      ANVA             54 days              42         269871.53\n",
       "3      ARCU            250 days               3          42514.23\n",
       "4      ATOS            183 days               3          16295.75\n",
       "..      ...                 ...             ...               ...\n",
       "60     XEMU           1021 days               2           9333.51\n",
       "61     XOTU             55 days              14          10166.95\n",
       "62     YULH             30 days              81        1662235.04\n",
       "63     ZAYN             33 days              18         193473.58\n",
       "64     ZOOB             30 days              21         627114.30\n",
       "\n",
       "[65 rows x 4 columns]"
      ]
     },
     "execution_count": 11,
     "metadata": {},
     "output_type": "execute_result"
    }
   ],
   "source": [
    "# Customer_Order == Frequency\n",
    "# Customer_Revenue == Monetary\n",
    "# Customer_Last_Order == Recency\n",
    "RFM_table"
   ]
  },
  {
   "cell_type": "code",
   "execution_count": 12,
   "metadata": {},
   "outputs": [],
   "source": [
    "# tạo các cột R, F, M tương ứng\n",
    "# F_score phải chia 8 rồi drop dup;icate 3 vì ở 3 Quartile đầu tiên, giá trị bị trùng, làm vậy mới ra được 5 phần\n",
    "RFM_table['R_score'] = pd.qcut(RFM_table['Customer_Last_Order'], q=5, labels=False)\n",
    "RFM_table['F_score'] = pd.qcut(RFM_table['Customer_Order'], q=8, labels=False, duplicates=\"drop\")\n",
    "RFM_table['M_score'] = pd.qcut(RFM_table['Customer_Revenue'], q=5, labels=False, precision = 2)"
   ]
  },
  {
   "cell_type": "code",
   "execution_count": 13,
   "metadata": {},
   "outputs": [],
   "source": [
    "\n",
    "# Thay đổi cột R_score, vì ngày càng lớn thì hạng phải càng thấp\n",
    "# Cũng như chuyển từ dãy 0-4 sang dãy 1-5 cho các Score\n",
    "RFM_table['R_score'] = RFM_table['R_score'].replace({0:5 , 1:4 , 2:3 , 3:2 , 4:1})\n",
    "RFM_table['M_score'] = RFM_table['M_score'].replace({0:1 , 1:2 , 2:3 , 3:4 , 4:5})\n",
    "RFM_table['F_score'] = RFM_table['F_score'].replace({0:1 , 1:2 , 2:3 , 3:4 , 4:5})"
   ]
  },
  {
   "cell_type": "code",
   "execution_count": 14,
   "metadata": {},
   "outputs": [],
   "source": [
    "# Nối các điểm R, F, M lại\n",
    "RFM_table[\"RFM_score\"] = RFM_table['R_score'].astype(str) + RFM_table['F_score'].astype(str) + RFM_table['M_score'].astype(str)"
   ]
  },
  {
   "cell_type": "code",
   "execution_count": 15,
   "metadata": {},
   "outputs": [],
   "source": [
    "# nhập bảng Rank_RFM\n",
    "Rank_RFM = pd.read_csv(\"Rank_RFM.csv\")"
   ]
  },
  {
   "cell_type": "code",
   "execution_count": 16,
   "metadata": {},
   "outputs": [],
   "source": [
    "# chuyển định dạng cột Score để có thể nối hai file với nhau\n",
    "Rank_RFM['Scores'] = Rank_RFM['Scores'].astype(str)"
   ]
  },
  {
   "cell_type": "code",
   "execution_count": 17,
   "metadata": {},
   "outputs": [],
   "source": [
    "RFM_final = pd.merge(RFM_table , Rank_RFM , how=\"left\" , left_on='RFM_score' , right_on=\"Scores\")"
   ]
  },
  {
   "cell_type": "code",
   "execution_count": 18,
   "metadata": {},
   "outputs": [
    {
     "data": {
      "text/html": [
       "<div>\n",
       "<style scoped>\n",
       "    .dataframe tbody tr th:only-of-type {\n",
       "        vertical-align: middle;\n",
       "    }\n",
       "\n",
       "    .dataframe tbody tr th {\n",
       "        vertical-align: top;\n",
       "    }\n",
       "\n",
       "    .dataframe thead th {\n",
       "        text-align: right;\n",
       "    }\n",
       "</style>\n",
       "<table border=\"1\" class=\"dataframe\">\n",
       "  <thead>\n",
       "    <tr style=\"text-align: right;\">\n",
       "      <th></th>\n",
       "      <th>Payee_ID</th>\n",
       "      <th>Customer_Last_Order</th>\n",
       "      <th>Customer_Order</th>\n",
       "      <th>Customer_Revenue</th>\n",
       "      <th>R_score</th>\n",
       "      <th>F_score</th>\n",
       "      <th>M_score</th>\n",
       "      <th>RFM_score</th>\n",
       "      <th>Segment</th>\n",
       "      <th>Scores</th>\n",
       "    </tr>\n",
       "  </thead>\n",
       "  <tbody>\n",
       "    <tr>\n",
       "      <th>0</th>\n",
       "      <td>ABCO</td>\n",
       "      <td>946 days</td>\n",
       "      <td>1</td>\n",
       "      <td>5091.60</td>\n",
       "      <td>1</td>\n",
       "      <td>1</td>\n",
       "      <td>2</td>\n",
       "      <td>112</td>\n",
       "      <td>Lost customers</td>\n",
       "      <td>112</td>\n",
       "    </tr>\n",
       "    <tr>\n",
       "      <th>1</th>\n",
       "      <td>ADCA</td>\n",
       "      <td>745 days</td>\n",
       "      <td>1</td>\n",
       "      <td>6215.00</td>\n",
       "      <td>2</td>\n",
       "      <td>1</td>\n",
       "      <td>3</td>\n",
       "      <td>213</td>\n",
       "      <td>About To Sleep</td>\n",
       "      <td>213</td>\n",
       "    </tr>\n",
       "    <tr>\n",
       "      <th>2</th>\n",
       "      <td>ANVA</td>\n",
       "      <td>54 days</td>\n",
       "      <td>42</td>\n",
       "      <td>269871.53</td>\n",
       "      <td>5</td>\n",
       "      <td>5</td>\n",
       "      <td>5</td>\n",
       "      <td>555</td>\n",
       "      <td>Champions</td>\n",
       "      <td>555</td>\n",
       "    </tr>\n",
       "    <tr>\n",
       "      <th>3</th>\n",
       "      <td>ARCU</td>\n",
       "      <td>250 days</td>\n",
       "      <td>3</td>\n",
       "      <td>42514.23</td>\n",
       "      <td>3</td>\n",
       "      <td>2</td>\n",
       "      <td>4</td>\n",
       "      <td>324</td>\n",
       "      <td>Need Attention</td>\n",
       "      <td>324</td>\n",
       "    </tr>\n",
       "    <tr>\n",
       "      <th>4</th>\n",
       "      <td>ATOS</td>\n",
       "      <td>183 days</td>\n",
       "      <td>3</td>\n",
       "      <td>16295.75</td>\n",
       "      <td>3</td>\n",
       "      <td>2</td>\n",
       "      <td>4</td>\n",
       "      <td>324</td>\n",
       "      <td>Need Attention</td>\n",
       "      <td>324</td>\n",
       "    </tr>\n",
       "    <tr>\n",
       "      <th>...</th>\n",
       "      <td>...</td>\n",
       "      <td>...</td>\n",
       "      <td>...</td>\n",
       "      <td>...</td>\n",
       "      <td>...</td>\n",
       "      <td>...</td>\n",
       "      <td>...</td>\n",
       "      <td>...</td>\n",
       "      <td>...</td>\n",
       "      <td>...</td>\n",
       "    </tr>\n",
       "    <tr>\n",
       "      <th>60</th>\n",
       "      <td>XEMU</td>\n",
       "      <td>1021 days</td>\n",
       "      <td>2</td>\n",
       "      <td>9333.51</td>\n",
       "      <td>1</td>\n",
       "      <td>1</td>\n",
       "      <td>3</td>\n",
       "      <td>113</td>\n",
       "      <td>Cannot Lose Them</td>\n",
       "      <td>113</td>\n",
       "    </tr>\n",
       "    <tr>\n",
       "      <th>61</th>\n",
       "      <td>XOTU</td>\n",
       "      <td>55 days</td>\n",
       "      <td>14</td>\n",
       "      <td>10166.95</td>\n",
       "      <td>5</td>\n",
       "      <td>4</td>\n",
       "      <td>3</td>\n",
       "      <td>543</td>\n",
       "      <td>Loyal</td>\n",
       "      <td>543</td>\n",
       "    </tr>\n",
       "    <tr>\n",
       "      <th>62</th>\n",
       "      <td>YULH</td>\n",
       "      <td>30 days</td>\n",
       "      <td>81</td>\n",
       "      <td>1662235.04</td>\n",
       "      <td>5</td>\n",
       "      <td>5</td>\n",
       "      <td>5</td>\n",
       "      <td>555</td>\n",
       "      <td>Champions</td>\n",
       "      <td>555</td>\n",
       "    </tr>\n",
       "    <tr>\n",
       "      <th>63</th>\n",
       "      <td>ZAYN</td>\n",
       "      <td>33 days</td>\n",
       "      <td>18</td>\n",
       "      <td>193473.58</td>\n",
       "      <td>5</td>\n",
       "      <td>4</td>\n",
       "      <td>5</td>\n",
       "      <td>545</td>\n",
       "      <td>Champions</td>\n",
       "      <td>545</td>\n",
       "    </tr>\n",
       "    <tr>\n",
       "      <th>64</th>\n",
       "      <td>ZOOB</td>\n",
       "      <td>30 days</td>\n",
       "      <td>21</td>\n",
       "      <td>627114.30</td>\n",
       "      <td>5</td>\n",
       "      <td>5</td>\n",
       "      <td>5</td>\n",
       "      <td>555</td>\n",
       "      <td>Champions</td>\n",
       "      <td>555</td>\n",
       "    </tr>\n",
       "  </tbody>\n",
       "</table>\n",
       "<p>65 rows × 10 columns</p>\n",
       "</div>"
      ],
      "text/plain": [
       "   Payee_ID Customer_Last_Order  Customer_Order  Customer_Revenue  R_score  \\\n",
       "0      ABCO            946 days               1           5091.60        1   \n",
       "1      ADCA            745 days               1           6215.00        2   \n",
       "2      ANVA             54 days              42         269871.53        5   \n",
       "3      ARCU            250 days               3          42514.23        3   \n",
       "4      ATOS            183 days               3          16295.75        3   \n",
       "..      ...                 ...             ...               ...      ...   \n",
       "60     XEMU           1021 days               2           9333.51        1   \n",
       "61     XOTU             55 days              14          10166.95        5   \n",
       "62     YULH             30 days              81        1662235.04        5   \n",
       "63     ZAYN             33 days              18         193473.58        5   \n",
       "64     ZOOB             30 days              21         627114.30        5   \n",
       "\n",
       "    F_score  M_score RFM_score           Segment Scores  \n",
       "0         1        2       112    Lost customers    112  \n",
       "1         1        3       213    About To Sleep    213  \n",
       "2         5        5       555         Champions    555  \n",
       "3         2        4       324    Need Attention    324  \n",
       "4         2        4       324    Need Attention    324  \n",
       "..      ...      ...       ...               ...    ...  \n",
       "60        1        3       113  Cannot Lose Them    113  \n",
       "61        4        3       543             Loyal    543  \n",
       "62        5        5       555         Champions    555  \n",
       "63        4        5       545         Champions    545  \n",
       "64        5        5       555         Champions    555  \n",
       "\n",
       "[65 rows x 10 columns]"
      ]
     },
     "execution_count": 18,
     "metadata": {},
     "output_type": "execute_result"
    }
   ],
   "source": [
    "RFM_final"
   ]
  },
  {
   "cell_type": "code",
   "execution_count": 19,
   "metadata": {},
   "outputs": [],
   "source": [
    "RFM_final.to_csv('RFM_final.csv')"
   ]
  }
 ],
 "metadata": {
  "kernelspec": {
   "display_name": "Python 3",
   "language": "python",
   "name": "python3"
  },
  "language_info": {
   "codemirror_mode": {
    "name": "ipython",
    "version": 3
   },
   "file_extension": ".py",
   "mimetype": "text/x-python",
   "name": "python",
   "nbconvert_exporter": "python",
   "pygments_lexer": "ipython3",
   "version": "3.11.6"
  }
 },
 "nbformat": 4,
 "nbformat_minor": 2
}
