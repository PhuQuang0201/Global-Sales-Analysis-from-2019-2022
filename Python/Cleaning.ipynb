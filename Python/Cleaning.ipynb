{
 "cells": [
  {
   "cell_type": "code",
   "execution_count": 1,
   "metadata": {},
   "outputs": [],
   "source": [
    "import pandas as pd"
   ]
  },
  {
   "cell_type": "markdown",
   "metadata": {},
   "source": [
    "Nhập các file vào để kiểm tra"
   ]
  },
  {
   "cell_type": "code",
   "execution_count": 33,
   "metadata": {},
   "outputs": [],
   "source": [
    "GR = pd.read_csv('Ontop_General_Records.csv')\n",
    "BF = pd.read_csv('Ontop_Customer_Business_Fields.csv')\n",
    "CD = pd.read_csv('Ontop_Customer_Details.csv')\n",
    "OD = pd.read_csv('Ontop_Order_Details.csv')\n",
    "RTE = pd.read_csv('Ontop_Records_Types_Explanation.csv')\n",
    "S = pd.read_csv('Ontop_Salary.csv')\n",
    "SD = pd.read_csv('Ontop_Staff_Details.csv')\n",
    "SUD = pd.read_csv('Ontop_Supplier_Details.csv')\n",
    "SG = pd.read_csv('Ontop_Supplier_Geolocation.csv')"
   ]
  },
  {
   "cell_type": "markdown",
   "metadata": {},
   "source": [
    "Xem info từng file"
   ]
  },
  {
   "cell_type": "code",
   "execution_count": 4,
   "metadata": {},
   "outputs": [
    {
     "name": "stdout",
     "output_type": "stream",
     "text": [
      "<class 'pandas.core.frame.DataFrame'>\n",
      "RangeIndex: 10 entries, 0 to 9\n",
      "Data columns (total 6 columns):\n",
      " #   Column               Non-Null Count  Dtype  \n",
      "---  ------               --------------  -----  \n",
      " 0   Supplier_Area_ID     10 non-null     object \n",
      " 1   Industrial_Name      10 non-null     object \n",
      " 2   Industrial_province  10 non-null     object \n",
      " 3   geolocation_lat      10 non-null     float64\n",
      " 4   geolocation_lng      10 non-null     float64\n",
      " 5   Supplier_Area        10 non-null     object \n",
      "dtypes: float64(2), object(4)\n",
      "memory usage: 612.0+ bytes\n"
     ]
    }
   ],
   "source": [
    "SG.info()"
   ]
  },
  {
   "cell_type": "markdown",
   "metadata": {},
   "source": [
    "Dataframe GR và OD có null, xem nó là gì và tiến hành xử lý\n",
    "Trước tiên là với file GR"
   ]
  },
  {
   "cell_type": "code",
   "execution_count": 5,
   "metadata": {},
   "outputs": [
    {
     "data": {
      "text/html": [
       "<div>\n",
       "<style scoped>\n",
       "    .dataframe tbody tr th:only-of-type {\n",
       "        vertical-align: middle;\n",
       "    }\n",
       "\n",
       "    .dataframe tbody tr th {\n",
       "        vertical-align: top;\n",
       "    }\n",
       "\n",
       "    .dataframe thead th {\n",
       "        text-align: right;\n",
       "    }\n",
       "</style>\n",
       "<table border=\"1\" class=\"dataframe\">\n",
       "  <thead>\n",
       "    <tr style=\"text-align: right;\">\n",
       "      <th></th>\n",
       "      <th>DATE</th>\n",
       "      <th>Record_Type</th>\n",
       "      <th>PAYEE</th>\n",
       "      <th>Payee_ID</th>\n",
       "      <th>Internal Code</th>\n",
       "      <th>Description</th>\n",
       "      <th>Amount</th>\n",
       "    </tr>\n",
       "  </thead>\n",
       "  <tbody>\n",
       "    <tr>\n",
       "      <th>6011</th>\n",
       "      <td>10/31/2022</td>\n",
       "      <td>COS</td>\n",
       "      <td>ZOOBIENGE</td>\n",
       "      <td>NaN</td>\n",
       "      <td>ZOOB2216</td>\n",
       "      <td>PAID 50% Deposit for Furniture, ZOOB2216-2</td>\n",
       "      <td>66,050.85</td>\n",
       "    </tr>\n",
       "  </tbody>\n",
       "</table>\n",
       "</div>"
      ],
      "text/plain": [
       "            DATE Record_Type      PAYEE Payee_ID Internal Code  \\\n",
       "6011  10/31/2022         COS  ZOOBIENGE      NaN      ZOOB2216   \n",
       "\n",
       "                                     Description  Amount      \n",
       "6011  PAID 50% Deposit for Furniture, ZOOB2216-2   66,050.85  "
      ]
     },
     "execution_count": 5,
     "metadata": {},
     "output_type": "execute_result"
    }
   ],
   "source": [
    "GR[GR['Payee_ID'].isnull()]\n",
    "# => Cột này có 1 giá trị null ở Payee_ID, dò cột PAYEE= ZOOBIENGE để xem có giá trị nào khác tương tự không"
   ]
  },
  {
   "cell_type": "code",
   "execution_count": 6,
   "metadata": {},
   "outputs": [
    {
     "data": {
      "text/html": [
       "<div>\n",
       "<style scoped>\n",
       "    .dataframe tbody tr th:only-of-type {\n",
       "        vertical-align: middle;\n",
       "    }\n",
       "\n",
       "    .dataframe tbody tr th {\n",
       "        vertical-align: top;\n",
       "    }\n",
       "\n",
       "    .dataframe thead th {\n",
       "        text-align: right;\n",
       "    }\n",
       "</style>\n",
       "<table border=\"1\" class=\"dataframe\">\n",
       "  <thead>\n",
       "    <tr style=\"text-align: right;\">\n",
       "      <th></th>\n",
       "      <th>DATE</th>\n",
       "      <th>Record_Type</th>\n",
       "      <th>PAYEE</th>\n",
       "      <th>Payee_ID</th>\n",
       "      <th>Internal Code</th>\n",
       "      <th>Description</th>\n",
       "      <th>Amount</th>\n",
       "    </tr>\n",
       "  </thead>\n",
       "  <tbody>\n",
       "    <tr>\n",
       "      <th>6011</th>\n",
       "      <td>10/31/2022</td>\n",
       "      <td>COS</td>\n",
       "      <td>ZOOBIENGE</td>\n",
       "      <td>NaN</td>\n",
       "      <td>ZOOB2216</td>\n",
       "      <td>PAID 50% Deposit for Furniture, ZOOB2216-2</td>\n",
       "      <td>66,050.85</td>\n",
       "    </tr>\n",
       "  </tbody>\n",
       "</table>\n",
       "</div>"
      ],
      "text/plain": [
       "            DATE Record_Type      PAYEE Payee_ID Internal Code  \\\n",
       "6011  10/31/2022         COS  ZOOBIENGE      NaN      ZOOB2216   \n",
       "\n",
       "                                     Description  Amount      \n",
       "6011  PAID 50% Deposit for Furniture, ZOOB2216-2   66,050.85  "
      ]
     },
     "execution_count": 6,
     "metadata": {},
     "output_type": "execute_result"
    }
   ],
   "source": [
    "GR[GR['PAYEE'] == \"ZOOBIENGE\"]\n",
    "# => Nhận thấy giá trị ZOOBIENGE là duy nhất trong bảng GR.\n",
    "# => Do trong Description có ghi là Paid => Là 1 supplier => dò trong bảng "
   ]
  },
  {
   "cell_type": "code",
   "execution_count": 7,
   "metadata": {},
   "outputs": [],
   "source": [
    "Replace_ID = SUD[SUD['Supplier_Name'] == \"ZOOBIENGE\"][\"Supplier_ID\"]\n",
    "# => Thấy dc Supplier_ID là SP253"
   ]
  },
  {
   "cell_type": "code",
   "execution_count": 8,
   "metadata": {},
   "outputs": [
    {
     "data": {
      "text/plain": [
       "252    SP253\n",
       "Name: Supplier_ID, dtype: object"
      ]
     },
     "execution_count": 8,
     "metadata": {},
     "output_type": "execute_result"
    }
   ],
   "source": [
    "Replace_ID"
   ]
  },
  {
   "cell_type": "code",
   "execution_count": null,
   "metadata": {},
   "outputs": [],
   "source": [
    "# Thay giá trị null bằng SP253\n",
    "GR['Payee_ID'] = GR['Payee_ID'].fillna(value = Replace_ID)"
   ]
  },
  {
   "cell_type": "code",
   "execution_count": 10,
   "metadata": {},
   "outputs": [],
   "source": [
    "GR['Payee_ID'] = GR['Payee_ID'].fillna(value = 'SP253')"
   ]
  },
  {
   "cell_type": "code",
   "execution_count": 11,
   "metadata": {},
   "outputs": [],
   "source": [
    "# Xuất lại file sau khi làm sạch\n",
    "GR.to_csv('Ontop_General_Records_cleaned.csv')"
   ]
  },
  {
   "cell_type": "markdown",
   "metadata": {},
   "source": [
    "Tiếp theo là với file OD"
   ]
  },
  {
   "cell_type": "code",
   "execution_count": 34,
   "metadata": {},
   "outputs": [
    {
     "data": {
      "text/html": [
       "<div>\n",
       "<style scoped>\n",
       "    .dataframe tbody tr th:only-of-type {\n",
       "        vertical-align: middle;\n",
       "    }\n",
       "\n",
       "    .dataframe tbody tr th {\n",
       "        vertical-align: top;\n",
       "    }\n",
       "\n",
       "    .dataframe thead th {\n",
       "        text-align: right;\n",
       "    }\n",
       "</style>\n",
       "<table border=\"1\" class=\"dataframe\">\n",
       "  <thead>\n",
       "    <tr style=\"text-align: right;\">\n",
       "      <th></th>\n",
       "      <th>Date</th>\n",
       "      <th>Customer_ID</th>\n",
       "      <th>Internal_Code</th>\n",
       "      <th>Project_Revenue</th>\n",
       "      <th>Project_Cost</th>\n",
       "      <th>Project_Profit</th>\n",
       "    </tr>\n",
       "  </thead>\n",
       "  <tbody>\n",
       "    <tr>\n",
       "      <th>505</th>\n",
       "      <td>2022-11-05</td>\n",
       "      <td>NaN</td>\n",
       "      <td>ZOOB2207</td>\n",
       "      <td>13415.79</td>\n",
       "      <td>14868.91</td>\n",
       "      <td>-1453.12</td>\n",
       "    </tr>\n",
       "  </tbody>\n",
       "</table>\n",
       "</div>"
      ],
      "text/plain": [
       "           Date Customer_ID Internal_Code  Project_Revenue  Project_Cost  \\\n",
       "505  2022-11-05         NaN      ZOOB2207         13415.79      14868.91   \n",
       "\n",
       "     Project_Profit  \n",
       "505        -1453.12  "
      ]
     },
     "execution_count": 34,
     "metadata": {},
     "output_type": "execute_result"
    }
   ],
   "source": [
    "OD[OD['Customer_ID'].isnull()]\n",
    "# => Giá trị null là Customer_ID ứng với khách mã khách là ZOOB (chữ cái đầu tiên của đơn hàng)"
   ]
  },
  {
   "cell_type": "code",
   "execution_count": 35,
   "metadata": {},
   "outputs": [],
   "source": [
    "# Thay thế chỗ Null bằng ZOOB\n",
    "OD['Customer_ID'] = OD['Customer_ID'].fillna(value = 'ZOOB')"
   ]
  },
  {
   "cell_type": "code",
   "execution_count": null,
   "metadata": {},
   "outputs": [],
   "source": [
    "OD[OD['Customer_ID'] == \"ZOOB\"]['Internal_Code'].value_counts()\n",
    "# => Thấy rằng ZOOB2207 bị chia thành 02 hàng, nên sẽ tiến hành cộng lại"
   ]
  },
  {
   "cell_type": "code",
   "execution_count": 49,
   "metadata": {},
   "outputs": [],
   "source": [
    "# Tính lại tổng các cột\n",
    "Sums = OD.groupby('Internal_Code').agg({'Project_Revenue':'sum','Project_Cost':'sum','Project_Profit':'sum'}).reset_index()"
   ]
  },
  {
   "cell_type": "code",
   "execution_count": 50,
   "metadata": {},
   "outputs": [],
   "source": [
    "# Xóa các cột cũ và merger 2 bảng lại với nhau\n",
    "OD.drop(columns=['Project_Revenue' , 'Project_Cost' , 'Project_Profit'], inplace=True)"
   ]
  },
  {
   "cell_type": "code",
   "execution_count": 52,
   "metadata": {},
   "outputs": [],
   "source": [
    "OD = OD.merge(Sums , how= 'inner', on= 'Internal_Code')"
   ]
  },
  {
   "cell_type": "code",
   "execution_count": 54,
   "metadata": {},
   "outputs": [],
   "source": [
    "# Xuất file sau khi làm sạch\n",
    "OD.to_csv('Ontop_Order_Details_cleaned.csv')"
   ]
  }
 ],
 "metadata": {
  "kernelspec": {
   "display_name": "Python 3",
   "language": "python",
   "name": "python3"
  },
  "language_info": {
   "codemirror_mode": {
    "name": "ipython",
    "version": 3
   },
   "file_extension": ".py",
   "mimetype": "text/x-python",
   "name": "python",
   "nbconvert_exporter": "python",
   "pygments_lexer": "ipython3",
   "version": "3.11.6"
  }
 },
 "nbformat": 4,
 "nbformat_minor": 2
}
